{
 "cells": [
  {
   "cell_type": "markdown",
   "metadata": {},
   "source": [
    "# Задание 3. Python\n",
    "## 3.1 Задача\n",
    "\n",
    "1. Реализуйте функцию, которая будет автоматически подгружать информацию из дополнительного файла groups_add.csv (заголовки могут отличаться) и на основании дополнительных параметров пересчитывать метрики.\n",
    "2. Реализуйте функцию, которая будет строить графики по получаемым метрикам."
   ]
  },
  {
   "cell_type": "code",
   "execution_count": 1,
   "metadata": {},
   "outputs": [],
   "source": [
    "import pandas as pd\n",
    "import numpy as np\n",
    "%matplotlib inline\n",
    "import matplotlib.pyplot as plt\n",
    "import seaborn as sns\n",
    "import matplotlib.ticker as ticker\n",
    "import plotly.express as px\n",
    "from io import BytesIO\n",
    "import requests\n",
    "import scipy \n",
    "from scipy import stats\n",
    "from scipy.stats import levene\n",
    "from scipy.stats import norm\n",
    "from tqdm.auto import tqdm"
   ]
  },
  {
   "cell_type": "code",
   "execution_count": 2,
   "metadata": {},
   "outputs": [],
   "source": [
    "sns.set(\n",
    "    font_scale=2,\n",
    "    style=\"whitegrid\",\n",
    "    rc={'figure.figsize':(10,5)}\n",
    "        )"
   ]
  },
  {
   "cell_type": "markdown",
   "metadata": {},
   "source": [
    "## Реализуйте функцию, которая будет автоматически подгружать информацию из дополнительного файла groups_add.csv (заголовки могут отличаться) и на основании дополнительных параметров пересчитывать метрики."
   ]
  },
  {
   "cell_type": "code",
   "execution_count": 3,
   "metadata": {},
   "outputs": [],
   "source": [
    "def load_groups_add(link):\n",
    "    # чтение таблиц из файлов\n",
    "#     groups = pd.read_csv('Files/Проект_2_groups.csv', sep=';')\n",
    "#     groups_add = pd.read_csv(path, sep='[;,]', engine='python')\n",
    "#     active_studs = pd.read_csv('Files/Проект_2_active_studs.csv', sep=';')\n",
    "#     checks = pd.read_csv('Files/Проект_2_checks.csv', sep=';')\n",
    "    \n",
    "    # чтение таблиц по ссылкам  \n",
    "    req1 = requests.get('https://s856sas.storage.yandex.net/rdisk/3d386b323fe25991ec9b1e5988045c55b1c10859e53fcc2c0405b6f380aa438e/62fd6c82/fKqInKw3d7bLFOeFnMGnhLWIS9AmXMMXWGR17A-BkO3-qg5Wp8tUAp7lxoJJvJyG8pjltSuuxShICmGl2FDiJhbsM4PC04KdB-NoZUjfeOOr8npumZHI4midPdWhecNq?uid=0&filename=%D0%9F%D1%80%D0%BE%D0%B5%D0%BA%D1%82_2_groups.csv&disposition=attachment&hash=FjLs%2B6AJdyaRoyFMFeL4raj9RoBP3hYIuXfguWvuEGcjdjYEIrmN7ZN/eZ32Z77Cq/J6bpmRyOJonT3VoXnDag%3D%3D&limit=0&content_type=text%2Fplain&owner_uid=125175473&fsize=724984&hid=4b9098e1d545e562c779de19f9f64e2f&media_type=spreadsheet&tknv=v2&rtoken=zwTV42BBC0vm&force_default=no&ycrid=na-4ced74cb4d2c6c99ced70f86e1f0e019-downloader15f&ts=5e67770f2a480&s=4114561b375b22d26d6c39b7239e999ddb357a0482aff8e5dd8112655413863c&pb=U2FsdGVkX1_cpRCD4Fgwzdj_tnoSPUz2ms-hc-w4mTI-BTdA-EJeUke6muYXxt7wcWq_KHfA0khZ12UgBMmysDalJNAWsjH2x7oWJSK0I9gq5-G2F6nCTHiKGOs2Ybjy')\n",
    "    data1 = req1.content\n",
    "    groups = pd.read_csv(BytesIO(data1), sep=';')\n",
    "\n",
    "    req2 = requests.get(link)\n",
    "    data2 = req2.content\n",
    "    groups_add = pd.read_csv(BytesIO(data2), sep='[;,]', engine='python')\n",
    "\n",
    "    req3 = requests.get('https://s432vla.storage.yandex.net/rdisk/03482ea951165abc04aba31405fc405db935ab6f338b7f1e24ac8e879eae35e0/62fd7268/n3N0SQYM2SoDHEJIQgKt2ujEDw5jYN17sSz14UE4iwGyYlrHRmnPoV9WI8mqa1dmF6Qt_88ffG90wBmmEpDhFQ==?uid=0&filename=%D0%9F%D1%80%D0%BE%D0%B5%D0%BA%D1%82_2_active_studs.csv&disposition=attachment&hash=zWS0uLxK3MRXd/4/IErmDFQBGvbpGD1qm/aJx/k6EUUtE6DaDI0uGkDT4cHh/WJbq/J6bpmRyOJonT3VoXnDag%3D%3D&limit=0&content_type=text%2Fplain&owner_uid=125175473&fsize=65131&hid=3ed23002f82477fd8c7d4a21c17d8034&media_type=spreadsheet&tknv=v2&rtoken=hqegbHOqsPlG&force_default=no&ycrid=na-601984b316fd94ccb53d27d29ff44fb3-downloader5f&ts=5e677caf36a00&s=364381c2a9d7dbde1ed824efadfaaefe651698d28ade2d82136e8b77089f9238&pb=U2FsdGVkX1_wKrOC42JbbUzjhCTWNYDo-T4DunwlrvZ3sNg-TechKtBX9PoI8utCj6k8gZZWbXjPU38EBY93ts6Ut48nT8o1rcj_3wEHYn8')\n",
    "    data3 = req3.content\n",
    "    active_studs = pd.read_csv(BytesIO(data3), sep=';')\n",
    "\n",
    "    req4 = requests.get('https://s251vla.storage.yandex.net/rdisk/0d0bb1c1372e6498f61bf9d0197960d4d9b63d9add4ebce05510881561317d4b/62fd7279/n3N0SQYM2SoDHEJIQgKt2psRrG10OKyAasqgpda4iX7NDTSjoP6nmHZtzOqJXgQH436kYOx6cWVM8zgvGq_zHg==?uid=0&filename=%D0%9F%D1%80%D0%BE%D0%B5%D0%BA%D1%82_2_checks.csv&disposition=attachment&hash=TeGedpkC9yRvIkaaNDf1zC3bFkr2Kvo9MvW7kYjfHc5svktv83UZ47kn6%2BaauC1pq/J6bpmRyOJonT3VoXnDag%3D%3D&limit=0&content_type=text%2Fplain&owner_uid=125175473&fsize=7764&hid=caf94adff3374e1c1a09fba3aae11e50&media_type=spreadsheet&tknv=v2&rtoken=5jXoVmngVJlh&force_default=no&ycrid=na-561304b376e94032e9cd3af7596735f3-downloader5f&ts=5e677cbf6d040&s=3599ba11e4e7c2ccfe96a4faacf8098dbb5667bf775e307376750c7cfff9c818&pb=U2FsdGVkX19iwRk3nLGrpNKJMFTqrFffaPg6DS9l39WK6PWMgWndF-4wZcqTUQ5HLCY9L72WehqZiqQhlVzjoObf04ujRAa3dBVNwPjOwpA')\n",
    "    data4 = req4.content\n",
    "    checks = pd.read_csv(BytesIO(data4), sep=';')\n",
    "    \n",
    "    \n",
    " \n",
    "    # переименование столбцов у groups_add\n",
    "    if groups_add.iloc[1][1] == 'A' or groups_add.iloc[1][1] == 'B':\n",
    "        groups_add.columns = ['id', 'grp']\n",
    "    else:\n",
    "        groups_add.columns = ['grp','id']\n",
    "    \n",
    "    # объединим таблицы groups и groups_add для получения полной картины о пользователях, попавших в a/b тестирование\n",
    "    groups = pd.concat([groups, groups_add])\n",
    "    \n",
    "    # переименуем колонку student_id в id для объединения таблиц\n",
    "    active_studs = active_studs.rename(columns={'student_id':'id'})\n",
    "    checks = checks.rename(columns={'student_id':'id'})    \n",
    "    \n",
    "    # узнаем к каким группам принадлежали пользователи, зашедшие в дни эксперимента\n",
    "    final_table = active_studs.merge(groups, how='left', on='id')\n",
    "\n",
    "    # объединим полученные данные с третьей таблицей и пустые значения по выручке заменим на 0 для удобства дальнейших рассчетов\n",
    "    final_table = final_table.merge(checks, how='left', on='id').fillna(0)\n",
    "\n",
    "    # проверим кол-во пользователей в каждой из групп, сумму по выручке и arpu\n",
    "    final_table_grouped  = final_table\n",
    "    final_table_grouped['rev2'] = final_table_grouped.rev\n",
    "    final_table_grouped['rev3'] = final_table_grouped.rev\n",
    "\n",
    "    final_table_grouped = final_table_grouped\\\n",
    "        .groupby(['grp'], as_index=False)\\\n",
    "        .agg({'id':'count','rev':'sum','rev2':'mean'})\\\n",
    "        .rename(columns={'id':'number_of_users','rev':'revenue','rev2':'arpu'})\n",
    "\n",
    "    # проверим кол-во платящих пользователей в каждой из групп и arppu\n",
    "    final_table_grouped_active = final_table\\\n",
    "        .query('rev != 0')\\\n",
    "        .groupby(['grp'], as_index=False)\\\n",
    "        .agg({'id':'count','rev2':'mean','rev3':'median'})\\\n",
    "        .rename(columns={'id':'number_of_paid_users','rev':'revenue','rev2':'arppu','rev3':'rev_median'})\n",
    "\n",
    "    # объединим таблицы для наглядности сравнения метрик\n",
    "    final_table_metrics = final_table_grouped.merge(final_table_grouped_active, how='left', on='grp')\n",
    "    # посчитаем конверсию из пользователей в пользователей, осуществивших покупку\n",
    "    final_table_metrics['CR'] = final_table_metrics.number_of_paid_users / final_table_metrics.number_of_users * 100\n",
    "    \n",
    "    return final_table_metrics, final_table"
   ]
  },
  {
   "cell_type": "code",
   "execution_count": 4,
   "metadata": {},
   "outputs": [
    {
     "data": {
      "text/html": [
       "<div>\n",
       "<style scoped>\n",
       "    .dataframe tbody tr th:only-of-type {\n",
       "        vertical-align: middle;\n",
       "    }\n",
       "\n",
       "    .dataframe tbody tr th {\n",
       "        vertical-align: top;\n",
       "    }\n",
       "\n",
       "    .dataframe thead th {\n",
       "        text-align: right;\n",
       "    }\n",
       "</style>\n",
       "<table border=\"1\" class=\"dataframe\">\n",
       "  <thead>\n",
       "    <tr style=\"text-align: right;\">\n",
       "      <th></th>\n",
       "      <th>grp</th>\n",
       "      <th>number_of_users</th>\n",
       "      <th>revenue</th>\n",
       "      <th>arpu</th>\n",
       "      <th>number_of_paid_users</th>\n",
       "      <th>arppu</th>\n",
       "      <th>rev_median</th>\n",
       "      <th>CR</th>\n",
       "    </tr>\n",
       "  </thead>\n",
       "  <tbody>\n",
       "    <tr>\n",
       "      <th>0</th>\n",
       "      <td>A</td>\n",
       "      <td>1538</td>\n",
       "      <td>72820.0000</td>\n",
       "      <td>47.347204</td>\n",
       "      <td>78</td>\n",
       "      <td>933.589744</td>\n",
       "      <td>585.0</td>\n",
       "      <td>5.071521</td>\n",
       "    </tr>\n",
       "    <tr>\n",
       "      <th>1</th>\n",
       "      <td>B</td>\n",
       "      <td>6803</td>\n",
       "      <td>394974.0035</td>\n",
       "      <td>58.058798</td>\n",
       "      <td>314</td>\n",
       "      <td>1257.878992</td>\n",
       "      <td>1140.0</td>\n",
       "      <td>4.615611</td>\n",
       "    </tr>\n",
       "  </tbody>\n",
       "</table>\n",
       "</div>"
      ],
      "text/plain": [
       "  grp  number_of_users      revenue       arpu  number_of_paid_users  \\\n",
       "0   A             1538   72820.0000  47.347204                    78   \n",
       "1   B             6803  394974.0035  58.058798                   314   \n",
       "\n",
       "         arppu  rev_median        CR  \n",
       "0   933.589744       585.0  5.071521  \n",
       "1  1257.878992      1140.0  4.615611  "
      ]
     },
     "execution_count": 4,
     "metadata": {},
     "output_type": "execute_result"
    }
   ],
   "source": [
    "final_table_metrics, final_table = load_groups_add('https://s750sas.storage.yandex.net/rdisk/49e6189ed5f1bfc38d1a124acd92831922790605e4da7738a38b3f7d566f9bd2/62fd7236/fKqInKw3d7bLFOeFnMGnhGAdJ2MSdW82i4_ghmwgsZlWhJkpRytn07Ls4kX484X-lezQy4loqSz9AFrIeHDnv8QEHwKSTiYbb_hzq1q6XQir8npumZHI4midPdWhecNq?uid=0&filename=%D0%9F%D1%80%D0%BE%D0%B5%D0%BA%D1%82_2_group_add.csv&disposition=attachment&hash=0ertv33lnyTdzTu9NbdN9MtgpuTSXleSHZ%2BvhK85v05jGwJs7DHSrj4ununKsRcfq/J6bpmRyOJonT3VoXnDag%3D%3D&limit=0&content_type=text%2Fplain&owner_uid=125175473&fsize=949&hid=e8dcec35987c367a56f82404a22463b7&media_type=spreadsheet&tknv=v2&rtoken=WYeDp6gHqZKy&force_default=no&ycrid=na-d7b6ea6a157df7fe7b29c8792aae21ed-downloader5f&ts=5e677c7f87980&s=b42b4d42a81c72d5c4d93c875a3d6a58100dbf1cab8028001901ee1407b264dc&pb=U2FsdGVkX19VRCbHkIvqdCSN22ITS6MpuWtHMpF0mBzyrqbSXDwniKzz-coBgJREUHG8XhthvhdPMaJc9Yao6xIq62NueYwgVnSSiKWfhFge_7h7TQfmKW-9Jho5yK27')\n",
    "final_table_metrics"
   ]
  },
  {
   "cell_type": "markdown",
   "metadata": {},
   "source": [
    "## Реализуйте функцию, которая будет строить графики по получаемым метрикам."
   ]
  },
  {
   "cell_type": "code",
   "execution_count": 5,
   "metadata": {},
   "outputs": [],
   "source": [
    "def graphics_print(final_table, final_table_metrics):\n",
    "    # передадим выборки в переменные \n",
    "    # a и b включают в себя всех пользователей, их будем использовать для сравнения ARPU \n",
    "    # a0 и b0 включают в себя только заплативших пользователей, будем использовать их для сравнения ARPPU\n",
    "    \n",
    "    \n",
    "    a = final_table\\\n",
    "        .query(\"grp == 'A'\")\\\n",
    "        .rev\n",
    "\n",
    "    b = final_table\\\n",
    "        .query(\"grp == 'B'\")\\\n",
    "        .rev\n",
    "\n",
    "    a0 = final_table\\\n",
    "        .query(\"grp == 'A' & rev != 0\")\\\n",
    "        .rev\n",
    "\n",
    "    b0 = final_table\\\n",
    "        .query(\"grp == 'B' & rev != 0\")\\\n",
    "        .rev\n",
    "    \n",
    "    print('A и B включают в себя всех пользователей, их будем использовать для сравнения ARPU ')\n",
    "    print('A0 и B0 включают в себя только заплативших пользователей, будем использовать их для сравнения ARPPU')\n",
    "    \n",
    "    fig = plt.figure()\n",
    "\n",
    "    ax_1 = fig.add_subplot(3, 2, 1)\n",
    "    ax_2 = fig.add_subplot(3, 2, 2)\n",
    "    ax_3 = fig.add_subplot(3, 2, 3)\n",
    "    ax_4 = fig.add_subplot(3, 2, 4)\n",
    "    ax_5 = fig.add_subplot(3, 2, 5)\n",
    "    ax_6 = fig.add_subplot(3, 2, 6)\n",
    "    \n",
    "    fig.set_figheight(15)\n",
    "    fig.set_figwidth(15)\n",
    "\n",
    "    ax_1.set(title = 'гистограмма выборки А')\n",
    "    ax_2.set(title = 'гистограмма выборки В')\n",
    "    ax_3.set(title = 'гистограмма выборки А0')\n",
    "    ax_4.set(title = 'гистограмма выборки B0')\n",
    "    ax_5.set(title = 'боксплоты выборок А и B')\n",
    "    ax_6.set(title = 'боксплоты выборок А0 и B0')\n",
    "    \n",
    "    sns.distplot(a, kde = False, ax=ax_1)\n",
    "    sns.distplot(b, kde = False, ax=ax_2)\n",
    "    sns.distplot(a0, kde = False, ax=ax_3)\n",
    "    sns.distplot(b0, kde = False, ax=ax_4)\n",
    "    sns.boxplot(x=\"grp\", y=\"rev\", data=final_table, ax=ax_5)\n",
    "    sns.boxplot(x=\"grp\", y=\"rev\", data=final_table.query('rev != 0'), ax=ax_6)\n",
    "    plt.subplots_adjust(wspace=0.4, hspace=0.7)\n",
    "    plt.show()"
   ]
  },
  {
   "cell_type": "code",
   "execution_count": 6,
   "metadata": {
    "scrolled": false
   },
   "outputs": [
    {
     "name": "stdout",
     "output_type": "stream",
     "text": [
      "A и B включают в себя всех пользователей, их будем использовать для сравнения ARPU \n",
      "A0 и B0 включают в себя только заплативших пользователей, будем использовать их для сравнения ARPPU\n"
     ]
    },
    {
     "name": "stderr",
     "output_type": "stream",
     "text": [
      "/opt/tljh/user/lib/python3.7/site-packages/seaborn/distributions.py:2557: FutureWarning: `distplot` is a deprecated function and will be removed in a future version. Please adapt your code to use either `displot` (a figure-level function with similar flexibility) or `histplot` (an axes-level function for histograms).\n",
      "  warnings.warn(msg, FutureWarning)\n"
     ]
    },
    {
     "data": {
      "image/png": "[encoded data removed]",
      "text/plain": [
       "<Figure size 1080x1080 with 6 Axes>"
      ]
     },
     "metadata": {},
     "output_type": "display_data"
    }
   ],
   "source": [
    "graphics_print(final_table, final_table_metrics)"
   ]
  },
  {
   "cell_type": "code",
   "execution_count": 7,
   "metadata": {},
   "outputs": [],
   "source": [
    "# напишем функции для сравнения с помощью бутстрапа\n",
    "plt.style.use('ggplot')\n",
    "\n",
    "# бутстрап с оценкой среднего\n",
    "def get_bootstrap_mean(\n",
    "    data_column_1, # числовые значения первой выборки\n",
    "    data_column_2, # числовые значения второй выборки\n",
    "    boot_it = 1000, # количество бутстрэп-подвыборок\n",
    "    statistic = np.mean, # интересующая нас статистика\n",
    "    bootstrap_conf_level = 0.95 # уровень значимости\n",
    "):\n",
    "    boot_data = []\n",
    "    for i in tqdm(range(boot_it)): # извлекаем подвыборки\n",
    "        samples_1 = data_column_1.sample(\n",
    "            len(data_column_1), \n",
    "            replace = True # параметр возвращения\n",
    "        ).values\n",
    "        \n",
    "        samples_2 = data_column_2.sample(\n",
    "            len(data_column_1), \n",
    "            replace = True\n",
    "        ).values\n",
    "        \n",
    "        boot_data.append(statistic(samples_1)-statistic(samples_2)) # mean() - применяем статистику\n",
    "        \n",
    "    pd_boot_data = pd.DataFrame(boot_data)\n",
    "        \n",
    "    left_quant = (1 - bootstrap_conf_level)/2\n",
    "    right_quant = 1 - (1 - bootstrap_conf_level) / 2\n",
    "    quants = pd_boot_data.quantile([left_quant, right_quant])\n",
    "        \n",
    "    p_1 = norm.cdf(\n",
    "        x = 0, \n",
    "        loc = np.mean(boot_data), \n",
    "        scale = np.std(boot_data)\n",
    "    )\n",
    "    p_2 = norm.cdf(\n",
    "        x = 0, \n",
    "        loc = -np.mean(boot_data), \n",
    "        scale = np.std(boot_data)\n",
    "    )\n",
    "    p_value = min(p_1, p_2) * 2\n",
    "       \n",
    "    return {\"boot_data\": boot_data, \n",
    "            \"quants\": quants, \n",
    "            \"p_value\": p_value}\n",
    "\n",
    "# бутстрап с оценкой медианного\n",
    "def get_bootstrap_median(\n",
    "    data_column_1, # числовые значения первой выборки\n",
    "    data_column_2, # числовые значения второй выборки\n",
    "    boot_it = 1000, # количество бутстрэп-подвыборок\n",
    "    statistic = np.mean, # интересующая нас статистика\n",
    "    bootstrap_conf_level = 0.95 # уровень значимости\n",
    "):\n",
    "    boot_data = []\n",
    "    for i in tqdm(range(boot_it)): # извлекаем подвыборки\n",
    "        samples_1 = data_column_1.sample(\n",
    "            len(data_column_1), \n",
    "            replace = True # параметр возвращения\n",
    "        ).values\n",
    "        \n",
    "        samples_2 = data_column_2.sample(\n",
    "            len(data_column_1), \n",
    "            replace = True\n",
    "        ).values\n",
    "        \n",
    "        boot_data.append(statistic(samples_1)-statistic(samples_2)) # mean() - применяем статистику\n",
    "        \n",
    "    pd_boot_data = pd.DataFrame(boot_data)\n",
    "        \n",
    "    left_quant = (1 - bootstrap_conf_level)/2\n",
    "    right_quant = 1 - (1 - bootstrap_conf_level) / 2\n",
    "    quants = pd_boot_data.quantile([left_quant, right_quant])\n",
    "        \n",
    "    p_1 = norm.cdf(\n",
    "        x = 0, \n",
    "        loc = np.mean(boot_data), \n",
    "        scale = np.std(boot_data)\n",
    "    )\n",
    "    p_2 = norm.cdf(\n",
    "        x = 0, \n",
    "        loc = -np.mean(boot_data), \n",
    "        scale = np.std(boot_data)\n",
    "    )\n",
    "    p_value = min(p_1, p_2) * 2\n",
    "        \n",
    "       \n",
    "    return {\"boot_data\": boot_data, \n",
    "            \"quants\": quants, \n",
    "            \"p_value\": p_value}"
   ]
  },
  {
   "cell_type": "markdown",
   "metadata": {},
   "source": [
    "## Дополнительно реализуем функцию, которая будет давать информацию о выборках и их статистических различиях"
   ]
  },
  {
   "cell_type": "code",
   "execution_count": 8,
   "metadata": {},
   "outputs": [],
   "source": [
    "def statics_info(final_table, final_table_metrics):\n",
    "    a = final_table\\\n",
    "        .query(\"grp == 'A'\")\\\n",
    "        .rev\n",
    "\n",
    "    b = final_table\\\n",
    "        .query(\"grp == 'B'\")\\\n",
    "        .rev\n",
    "\n",
    "    a0 = final_table\\\n",
    "        .query(\"grp == 'A' & rev != 0\")\\\n",
    "        .rev\n",
    "\n",
    "    b0 = final_table\\\n",
    "        .query(\"grp == 'B' & rev != 0\")\\\n",
    "        .rev\n",
    "    \n",
    "    if stats.shapiro(a).pvalue < 0.05:\n",
    "            print(f\"p-значение в тесте Шапиро выборки А={stats.shapiro(a).pvalue}, отклоняем нулевую гипотезу, выборка не распределена нормально\")\n",
    "    else: print(f\"p-значение дв тесте Шапиро выборки А={stats.shapiro(a).pvalue}, принимаем нулевую гипотезу, выборка распределена нормально\")             \n",
    "\n",
    "    if stats.shapiro(b).pvalue < 0.05:\n",
    "            print(f\"p-значение в тесте Шапиро выборки B={stats.shapiro(b).pvalue}, отклоняем нулевую гипотезу, выборка не распределена нормально\")\n",
    "    else: print(f\"p-значение в тесте Шапиро выборки B={stats.shapiro(b).pvalue}, принимаем нулевую гипотезу, выборка распределена нормально\")             \n",
    "\n",
    "    if stats.shapiro(a0).pvalue < 0.05:\n",
    "            print(f\"p-значение в тесте Шапиро выборки А0={stats.shapiro(a0).pvalue}, отклоняем нулевую гипотезу, выборка не распределена нормально\")\n",
    "    else: print(f\"p-значение в тесте Шапиро выборки А0={stats.shapiro(a0).pvalue}, принимаем нулевую гипотезу, выборка распределена нормально\")             \n",
    "\n",
    "    if stats.shapiro(b0).pvalue < 0.05:\n",
    "            print(f\"p-значение в тесте Шапиро выборки B0={stats.shapiro(b0).pvalue}, отклоняем нулевую гипотезу, выборка не распределена нормально\",\"\\n\")\n",
    "    else: print(f\"p-значение в тесте Шапиро выборки B0={stats.shapiro(b0).pvalue}, принимаем нулевую гипотезу, выборка распределена нормально\",\"\\n\")  \n",
    "        \n",
    "    # посчитаем дисперсии\n",
    "    sd_a = round(np.std(a),2)\n",
    "    sd_b = round(np.std(b),2)\n",
    "    print(f\"Дисперсия выборки А={sd_a}\")\n",
    "    print(f\"Дисперсия выборки B={sd_b}\")\n",
    "    sd_a0 = round(np.std(a0),2)\n",
    "    sd_b0 = round(np.std(b0),2)\n",
    "    print(f\"Дисперсия выборки А0={sd_a0}\")\n",
    "    print(f\"Дисперсия выборки B0={sd_b0}\",\"\\n\") \n",
    "        \n",
    "    # проверяем равность дисперсий, нулевая гипотеза для теста Левена состоит в том, что дисперсия между группами одинакова\n",
    "    stat, p = levene(a,b)\n",
    "    if p < 0.05:\n",
    "        print(f\"p-значение для выборок A и B в тесте Левена={p}, отклоняем нулевую гипотезу, дисперсия между A и B не одинакова\")\n",
    "    else: print(f\"p-значение для выборок A и B в тесте Левена={p}, принимаем нулевую гипотезу, дисперсия между A и B одинакова\")    \n",
    "\n",
    "    stat, p = levene(a0,b0)\n",
    "    if p < 0.05:\n",
    "        print(f\"p-значение для выборок A0 и B0 в тесте Левена={p}, отклоняем нулевую гипотезу, дисперсия между A0 и B0 не одинакова\",\"\\n\")\n",
    "    else: print(f\"p-значение для выборок A0 и B0 в тесте Левена={p}, принимаем нулевую гипотезу, дисперсия между A0 и B0 одинакова\",\"\\n\")      \n",
    "        \n",
    "    # посчитаем p-value с помощью t-теста\n",
    "    if scipy.stats.ttest_ind(a,b).pvalue < 0.05:\n",
    "        print(f\"p-значение для t-test средних A и B={scipy.stats.ttest_ind(a,b).pvalue}, отклоняем нулевую гипотезу, различия между средними статистически значимы (ARPU)\")\n",
    "    else: print(f\"p-значение для t-test средних A и B={scipy.stats.ttest_ind(a,b).pvalue}, принимаем нулевую гипотезу, различия между средними статистически незначимы (ARPU)\")\n",
    "\n",
    "    if scipy.stats.ttest_ind(a0,b0).pvalue < 0.05:\n",
    "        print(f\"p-значение для t-test средних A0 и B0={scipy.stats.ttest_ind(a0,b0).pvalue}, отклоняем нулевую гипотезу, различия между средними статистически значимы (ARPPU)\",\"\\n\")\n",
    "    else: print(f\"p-значение для t-test средних A0 и B0={scipy.stats.ttest_ind(a0,b0).pvalue}, принимаем нулевую гипотезу, различия между средними статистически незначимы (ARPPU)\",\"\\n\")\n",
    "        \n",
    "        \n",
    "    # посчитаем p-value с помощью u-теста\n",
    "    if scipy.stats.mannwhitneyu(a,b).pvalue < 0.05:\n",
    "        print(f\"p-значение для u-test средних A и B={scipy.stats.mannwhitneyu(a,b).pvalue}, отклоняем нулевую гипотезу, различия между средними статистически значимы (ARPU)\")\n",
    "    else: print(f\"p-значение для u-test средних A и B={scipy.stats.mannwhitneyu(a,b).pvalue}, принимаем нулевую гипотезу, различия между средними статистически незначимы (ARPU)\")\n",
    "\n",
    "    if scipy.stats.mannwhitneyu(a0,b0).pvalue < 0.05:\n",
    "        print(f\"p-значение для u-test средних A0 и B0={scipy.stats.mannwhitneyu(a0,b0).pvalue}, отклоняем нулевую гипотезу, различия между средними статистически значимы (ARPPU)\",\"\\n\")\n",
    "    else: print(f\"p-значение для u-test средних A0 и B0={scipy.stats.mannwhitneyu(a0,b0).pvalue}, принимаем нулевую гипотезу, различия между средними статистически незначимы (ARPPU)\",\"\\n\")\n",
    "        \n",
    "    x = get_bootstrap_mean(a, b)[\"p_value\"]    \n",
    "    if x < 0.05:\n",
    "        print(f\"p-значение для bootstrap-test средних A и B={x}, отклоняем нулевую гипотезу, различия между средними статистически значимы (ARPU)\")\n",
    "    else: print(f\"p-значение для bootstrap-test средних A и B={x}, принимаем нулевую гипотезу, различия между средними статистически незначимы (ARPU)\")\n",
    " \n",
    "    x = get_bootstrap_mean(a0, b0)[\"p_value\"] \n",
    "    if x < 0.05:\n",
    "        print(f\"p-значение для bootstrap-test средних A0 и B0={x}, отклоняем нулевую гипотезу, различия между средними статистически значимы (ARPPU)\",\"\\n\")\n",
    "    else: print(f\"p-значение для bootstrap-test средних A0 и B0={x}, принимаем нулевую гипотезу, различия между средними статистически незначимы (ARPPU)\",\"\\n\")    \n",
    "        \n",
    "    # создадим колонку конверсия со значением 1 или 0 для каждого пользователя в зависимости от того, была ли у него конверсия\n",
    "    final_table['conver'] = np.where(final_table.rev>0,1,0)\n",
    "    final_table    \n",
    "    \n",
    "    # создадим выборки для групп по столбцу конверсия\n",
    "    a_conv = final_table\\\n",
    "        .query(\"grp == 'A'\")\\\n",
    "        .conver\n",
    "\n",
    "    b_conv = final_table\\\n",
    "        .query(\"grp == 'B'\")\\\n",
    "        .conver\n",
    "    \n",
    "    # проверим разницу между средними с помощью бутстрапа\n",
    "    x = get_bootstrap_mean(a_conv, b_conv)[\"p_value\"] \n",
    "    if x < 0.05:\n",
    "        print(f\"p-значение для bootstrap-test средних конверсий A и B={x}, отклоняем нулевую гипотезу, различия между конверсий статистически значимы (CR)\",\"\\n\")\n",
    "    else: print(f\"p-значение для bootstrap-test средних конверсий A и B={x}, принимаем нулевую гипотезу, различия между конверсией статистически незначимы (CR)\",\"\\n\")\n",
    "        \n",
    "    # проверим аналогичные различия с помощью точного теста фишера, для этого посчитаем кол-во неплативших пользователей\n",
    "    final_table_metrics['number_of_non_paid_users'] = final_table_metrics.number_of_users - \\\n",
    "                                                      final_table_metrics.number_of_paid_users\n",
    "      \n",
    "    # посчитаем p-значение\n",
    "    data = [[final_table_metrics.number_of_paid_users[0], final_table_metrics.number_of_non_paid_users[0]],\\\n",
    "             [final_table_metrics.number_of_paid_users[1], final_table_metrics.number_of_non_paid_users[1]]]\n",
    "\n",
    "    # performing fishers exact test on the data\n",
    "    odd_ratio, p_value = stats.fisher_exact(data)\n",
    "\n",
    "    if p_value < 0.05:\n",
    "        print(f\"p-значение для теста фишера средних конверсий A и B={p_value}, отклоняем нулевую гипотезу, различия между конверсий статистически значимы (CR)\",\"\\n\")\n",
    "    else: print(f\"p-значение для теста фишера средних конверсий A и B={p_value}, принимаем нулевую гипотезу, различия между конверсией статистически незначимы (CR)\",\"\\n\")\n",
    "    "
   ]
  },
  {
   "cell_type": "code",
   "execution_count": 9,
   "metadata": {},
   "outputs": [
    {
     "name": "stdout",
     "output_type": "stream",
     "text": [
      "p-значение в тесте Шапиро выборки А=0.0, отклоняем нулевую гипотезу, выборка не распределена нормально\n",
      "p-значение в тесте Шапиро выборки B=0.0, отклоняем нулевую гипотезу, выборка не распределена нормально\n",
      "p-значение в тесте Шапиро выборки А0=1.4986822893803264e-10, отклоняем нулевую гипотезу, выборка не распределена нормально\n",
      "p-значение в тесте Шапиро выборки B0=1.5437024585965894e-16, отклоняем нулевую гипотезу, выборка не распределена нормально \n",
      "\n",
      "Дисперсия выборки А=290.4\n",
      "Дисперсия выборки B=313.75\n",
      "Дисперсия выборки А0=914.02\n",
      "Дисперсия выборки B0=789.6 \n",
      "\n",
      "p-значение для выборок A и B в тесте Левена=0.22048133327049665, принимаем нулевую гипотезу, дисперсия между A и B одинакова\n",
      "p-значение для выборок A0 и B0 в тесте Левена=0.08025675761347022, принимаем нулевую гипотезу, дисперсия между A0 и B0 одинакова \n",
      "\n",
      "p-значение для t-test средних A и B=0.22048133326988403, принимаем нулевую гипотезу, различия между средними статистически незначимы (ARPU)\n",
      "p-значение для t-test средних A0 и B0=0.0018562025265765867, отклоняем нулевую гипотезу, различия между средними статистически значимы (ARPPU) \n",
      "\n",
      "p-значение для u-test средних A и B=0.5099747992861601, принимаем нулевую гипотезу, различия между средними статистически незначимы (ARPU)\n",
      "p-значение для u-test средних A0 и B0=0.0002511393831406922, отклоняем нулевую гипотезу, различия между средними статистически значимы (ARPPU) \n",
      "\n"
     ]
    },
    {
     "name": "stderr",
     "output_type": "stream",
     "text": [
      "/opt/tljh/user/lib/python3.7/site-packages/scipy/stats/morestats.py:1760: UserWarning: p-value may not be accurate for N > 5000.\n",
      "  warnings.warn(\"p-value may not be accurate for N > 5000.\")\n"
     ]
    },
    {
     "data": {
      "application/vnd.jupyter.widget-view+json": {
       "model_id": "05a6700accd04f3e8d366276d736d0a7",
       "version_major": 2,
       "version_minor": 0
      },
      "text/plain": [
       "HBox(children=(FloatProgress(value=0.0, max=1000.0), HTML(value='')))"
      ]
     },
     "metadata": {},
     "output_type": "display_data"
    },
    {
     "name": "stdout",
     "output_type": "stream",
     "text": [
      "\n",
      "p-значение для bootstrap-test средних A и B=0.30588771680260907, принимаем нулевую гипотезу, различия между средними статистически незначимы (ARPU)\n"
     ]
    },
    {
     "data": {
      "application/vnd.jupyter.widget-view+json": {
       "model_id": "303c3cf6463d4cca8e1b5d864fb90580",
       "version_major": 2,
       "version_minor": 0
      },
      "text/plain": [
       "HBox(children=(FloatProgress(value=0.0, max=1000.0), HTML(value='')))"
      ]
     },
     "metadata": {},
     "output_type": "display_data"
    },
    {
     "name": "stdout",
     "output_type": "stream",
     "text": [
      "\n",
      "p-значение для bootstrap-test средних A0 и B0=0.015822154460409882, отклоняем нулевую гипотезу, различия между средними статистически значимы (ARPPU) \n",
      "\n"
     ]
    },
    {
     "data": {
      "application/vnd.jupyter.widget-view+json": {
       "model_id": "0bba662659314a49a63ab05ea774ec50",
       "version_major": 2,
       "version_minor": 0
      },
      "text/plain": [
       "HBox(children=(FloatProgress(value=0.0, max=1000.0), HTML(value='')))"
      ]
     },
     "metadata": {},
     "output_type": "display_data"
    },
    {
     "name": "stdout",
     "output_type": "stream",
     "text": [
      "\n",
      "p-значение для bootstrap-test средних конверсий A и B=0.547724181615236, принимаем нулевую гипотезу, различия между конверсией статистически незначимы (CR) \n",
      "\n",
      "p-значение для теста фишера средних конверсий A и B=0.4629042445110922, принимаем нулевую гипотезу, различия между конверсией статистически незначимы (CR) \n",
      "\n"
     ]
    }
   ],
   "source": [
    "statics_info(final_table, final_table_metrics)"
   ]
  },
  {
   "cell_type": "code",
   "execution_count": null,
   "metadata": {},
   "outputs": [],
   "source": []
  }
 ],
 "metadata": {
  "kernelspec": {
   "display_name": "Python 3",
   "language": "python",
   "name": "python3"
  },
  "language_info": {
   "codemirror_mode": {
    "name": "ipython",
    "version": 3
   },
   "file_extension": ".py",
   "mimetype": "text/x-python",
   "name": "python",
   "nbconvert_exporter": "python",
   "pygments_lexer": "ipython3",
   "version": "3.7.3"
  }
 },
 "nbformat": 4,
 "nbformat_minor": 4
}
